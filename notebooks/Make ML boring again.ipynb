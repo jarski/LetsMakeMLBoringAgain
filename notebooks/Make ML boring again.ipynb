{
 "cells": [
  {
   "cell_type": "markdown",
   "metadata": {},
   "source": [
    "##### Import dependencies"
   ]
  },
  {
   "cell_type": "code",
   "execution_count": 451,
   "metadata": {},
   "outputs": [],
   "source": [
    "import numpy as np\n",
    "import matplotlib.pyplot as plt\n",
    "import tensorflow as tf"
   ]
  },
  {
   "cell_type": "markdown",
   "metadata": {},
   "source": [
    "### Exercise 1: Linear regression"
   ]
  },
  {
   "cell_type": "markdown",
   "metadata": {},
   "source": [
    "Prices per square for old apartment houses in Turku (Source: Tilastokeskus)"
   ]
  },
  {
   "cell_type": "code",
   "execution_count": 452,
   "metadata": {},
   "outputs": [],
   "source": [
    "price = [1699, 1715, 1765, 1782, 1792, 1824, 1845, 1914, 1952];\n",
    "year = [2010, 2011, 2012, 2013, 2014, 2015, 2016, 2017, 2018];"
   ]
  },
  {
   "cell_type": "markdown",
   "metadata": {},
   "source": [
    "Gradient descent"
   ]
  },
  {
   "cell_type": "code",
   "execution_count": 453,
   "metadata": {},
   "outputs": [],
   "source": [
    "def gradientDescent(cost, gradient, initial, alpha, iters):\n",
    "   position = initial;\n",
    "   cost_history = [];\n",
    "   for i in range(iters): \n",
    "      position = position - alpha*gradient(position);\n",
    "      if(((i + 1) % 10) == 0):  \n",
    "         print(f\"iteration = {i+1} , cost = {cost(position)}, position = {position}\");\n",
    "         cost_history.append(cost(position));    \n",
    "   return [position, cost_history];"
   ]
  },
  {
   "cell_type": "code",
   "execution_count": 454,
   "metadata": {},
   "outputs": [],
   "source": [
    "x_org = np.array(year);\n",
    "y_org = np.array(price);\n",
    "# feature scaling\n",
    "x = (x_org - np.min(x_org))/(np.max(x_org)-np.min(x_org));\n",
    "y = (y_org - np.min(y_org))/(np.max(y_org)-np.min(y_org));\n",
    "\n",
    "initial = np.array([0, 0]);"
   ]
  },
  {
   "cell_type": "code",
   "execution_count": 455,
   "metadata": {},
   "outputs": [
    {
     "name": "stdout",
     "output_type": "stream",
     "text": [
      "cost: 0.1452269732902144\n"
     ]
    }
   ],
   "source": [
    "def cost(position):\n",
    "    alpha = position[0];\n",
    "    beta = position[1];\n",
    "    m = y.shape[0];\n",
    "    return 1/(2*m)*np.sum(np.square(alpha*x+beta-y));\n",
    "\n",
    "print(\"cost: \" + str(cost(initial)));"
   ]
  },
  {
   "cell_type": "code",
   "execution_count": 456,
   "metadata": {},
   "outputs": [],
   "source": [
    "def gradient(position):\n",
    "    alpha = position[0];\n",
    "    beta = position[1];\n",
    "    m = y.shape[0];\n",
    "    delta_alpha = (1/m)*np.sum(np.multiply(alpha*x+beta-y,x));\n",
    "    delta_beta = (1/m)*np.sum(alpha*x+beta-y);\n",
    "    return np.array([delta_alpha, delta_beta]);"
   ]
  },
  {
   "cell_type": "markdown",
   "metadata": {},
   "source": [
    "Test the gradient. Difference with approximation and calculated value should be close to zero."
   ]
  },
  {
   "cell_type": "code",
   "execution_count": 457,
   "metadata": {},
   "outputs": [
    {
     "name": "stdout",
     "output_type": "stream",
     "text": [
      "approx = [-0.3183288002309159, -0.43780682916133573], value = [-0.31834651 -0.43785683], diff = [-5.56259689e-05 -1.14192577e-04]\n"
     ]
    }
   ],
   "source": [
    "e = 0.0001\n",
    "approx = [(cost(initial+[e, 0])-cost(initial))/e, (cost(initial+[0, e])-cost(initial))/e]\n",
    "value = gradient(initial)\n",
    "print(f\"approx = {approx}, value = {value}, diff = {(approx-value)/value}\")"
   ]
  },
  {
   "cell_type": "code",
   "execution_count": 458,
   "metadata": {},
   "outputs": [
    {
     "name": "stdout",
     "output_type": "stream",
     "text": [
      "iteration = 10 , cost = 0.007371304600662321, position = [0.63407462 0.13510142]\n",
      "iteration = 20 , cost = 0.0029113682622553816, position = [0.81806964 0.03490119]\n",
      "iteration = 30 , cost = 0.002103421930298153, position = [ 0.89638229 -0.00774686]\n",
      "iteration = 40 , cost = 0.0019570572232988784, position = [ 0.92971409 -0.02589893]\n",
      "iteration = 50 , cost = 0.0019305423093650687, position = [ 0.94390094 -0.03362491]\n",
      "iteration = 60 , cost = 0.0019257389611035177, position = [ 0.94993921 -0.03691327]\n",
      "iteration = 70 , cost = 0.0019248688034790452, position = [ 0.95250925 -0.03831288]\n",
      "iteration = 80 , cost = 0.0019247111687937797, position = [ 0.95360312 -0.03890859]\n",
      "iteration = 90 , cost = 0.0019246826122503449, position = [ 0.9540687  -0.03916214]\n",
      "iteration = 100 , cost = 0.001924677439047687, position = [ 0.95426686 -0.03927005]\n",
      "alpha = 0.9542668597788185, beta = -0.03927005345575051\n"
     ]
    }
   ],
   "source": [
    "[[alpha, beta], cost_history] = gradientDescent(cost, gradient, initial, 1, 100)\n",
    "print(f\"alpha = {alpha}, beta = {beta}\")"
   ]
  },
  {
   "cell_type": "code",
   "execution_count": 459,
   "metadata": {},
   "outputs": [
    {
     "name": "stdout",
     "output_type": "stream",
     "text": [
      "Price at year 2030 is estimated to be 2292.638465285798:f.2\n"
     ]
    },
    {
     "data": {
      "image/png": "[encoded data removed]",
      "text/plain": [
       "<Figure size 648x216 with 2 Axes>"
      ]
     },
     "metadata": {
      "needs_background": "light"
     },
     "output_type": "display_data"
    }
   ],
   "source": [
    "scaled_x = (np.array([2009, 2030]) - np.min(x_org))/(np.max(x_org)-np.min(x_org));\n",
    "calculated_prices = (alpha*scaled_x+beta)*(np.max(y_org)-np.min(y_org))+np.min(y_org)\n",
    "plt.figure(figsize=(9,3))\n",
    "\n",
    "plt.subplot(1, 2, 1);\n",
    "plt.title(\"price\")\n",
    "plt.scatter(year,price);\n",
    "plt.plot([2009, 2030], calculated_prices);\n",
    "#plt.plot([2009, 2030], initial[0]*np.array([2009, 2030])+initial[1]);\n",
    "plt.xlim([2009, 2030]);\n",
    "plt.ylim([1650, 3000]);\n",
    "\n",
    "plt.subplot(1, 2, 2);\n",
    "plt.title(\"cost\")\n",
    "plt.plot(cost_history);\n",
    "\n",
    "plt.tight_layout()\n",
    "\n",
    "print(f\"Price at year 2030 is estimated to be {calculated_prices[1]}:f.2\")"
   ]
  },
  {
   "cell_type": "markdown",
   "metadata": {},
   "source": [
    "### Exercise 2: Linear regression + MNIST"
   ]
  },
  {
   "cell_type": "markdown",
   "metadata": {},
   "source": [
    "Import [MNIST data](http://yann.lecun.com/exdb/mnist/) and convert from int to float"
   ]
  },
  {
   "cell_type": "code",
   "execution_count": 460,
   "metadata": {},
   "outputs": [],
   "source": [
    "(x_train, y_train), (x_test, y_test) = tf.keras.datasets.mnist.load_data()\n",
    "x_train, x_test = x_train / 255.0, x_test / 255.0"
   ]
  },
  {
   "cell_type": "markdown",
   "metadata": {},
   "source": [
    "### Exercise 2: Tensorflow and Neural networks"
   ]
  },
  {
   "cell_type": "code",
   "execution_count": 15,
   "metadata": {},
   "outputs": [],
   "source": [
    "model = tf.keras.models.Sequential([\n",
    "  tf.keras.layers.Flatten(input_shape=(28, 28)),\n",
    "  tf.keras.layers.Dense(128, activation='relu'),\n",
    "  tf.keras.layers.Dropout(0.2),\n",
    "  tf.keras.layers.Dense(10, activation='softmax')\n",
    "])\n",
    "\n",
    "model.compile(optimizer='adam',\n",
    "              loss='sparse_categorical_crossentropy',\n",
    "              metrics=['accuracy'])"
   ]
  },
  {
   "cell_type": "code",
   "execution_count": 16,
   "metadata": {},
   "outputs": [
    {
     "name": "stdout",
     "output_type": "stream",
     "text": [
      "Train on 60000 samples\n",
      "Epoch 1/5\n",
      "60000/60000 [==============================] - 19s 321us/sample - loss: 0.2983 - accuracy: 0.9131\n",
      "Epoch 2/5\n",
      "60000/60000 [==============================] - 14s 237us/sample - loss: 0.1413 - accuracy: 0.9585\n",
      "Epoch 3/5\n",
      "60000/60000 [==============================] - 11s 177us/sample - loss: 0.1069 - accuracy: 0.9671\n",
      "Epoch 4/5\n",
      "60000/60000 [==============================] - 6s 98us/sample - loss: 0.0874 - accuracy: 0.9727\n",
      "Epoch 5/5\n",
      "60000/60000 [==============================] - 6s 95us/sample - loss: 0.0744 - accuracy: 0.9769\n",
      "10000/1 - 1s - loss: 0.0407 - accuracy: 0.9776\n"
     ]
    },
    {
     "data": {
      "text/plain": [
       "[0.07589895232543349, 0.9776]"
      ]
     },
     "execution_count": 16,
     "metadata": {},
     "output_type": "execute_result"
    }
   ],
   "source": [
    "model.fit(x_train, y_train, epochs=5)\n",
    "\n",
    "model.evaluate(x_test,  y_test, verbose=2)"
   ]
  },
  {
   "cell_type": "code",
   "execution_count": null,
   "metadata": {},
   "outputs": [],
   "source": []
  }
 ],
 "metadata": {
  "kernelspec": {
   "display_name": "Python 3",
   "language": "python",
   "name": "python3"
  },
  "language_info": {
   "codemirror_mode": {
    "name": "ipython",
    "version": 3
   },
   "file_extension": ".py",
   "mimetype": "text/x-python",
   "name": "python",
   "nbconvert_exporter": "python",
   "pygments_lexer": "ipython3",
   "version": "3.6.8"
  }
 },
 "nbformat": 4,
 "nbformat_minor": 2
}
