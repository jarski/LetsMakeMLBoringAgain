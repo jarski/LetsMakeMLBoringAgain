{
 "cells": [
  {
   "cell_type": "markdown",
   "metadata": {},
   "source": [
    "##### Import dependencies"
   ]
  },
  {
   "cell_type": "code",
   "execution_count": 2,
   "metadata": {},
   "outputs": [],
   "source": [
    "import numpy as np\n",
    "import matplotlib.pyplot as plt\n",
    "import tensorflow as tf"
   ]
  },
  {
   "cell_type": "markdown",
   "metadata": {},
   "source": [
    "### Exercise 1: Linear regression"
   ]
  },
  {
   "cell_type": "markdown",
   "metadata": {},
   "source": [
    "Prices per square for old apartment houses in Turku (Source: Tilastokeskus)"
   ]
  },
  {
   "cell_type": "code",
   "execution_count": 588,
   "metadata": {},
   "outputs": [],
   "source": [
    "price = [1699, 1715, 1765, 1782, 1792, 1824, 1845, 1914, 1952];\n",
    "year = [2010, 2011, 2012, 2013, 2014, 2015, 2016, 2017, 2018];"
   ]
  },
  {
   "cell_type": "markdown",
   "metadata": {},
   "source": [
    "Gradient descent"
   ]
  },
  {
   "cell_type": "code",
   "execution_count": 589,
   "metadata": {},
   "outputs": [],
   "source": [
    "def gradientDescent(cost, gradient, initial, alpha, iters, history_delta):\n",
    "   position = initial;\n",
    "   cost_history = [];\n",
    "   for i in range(iters): \n",
    "      position = position - alpha*gradient(position);\n",
    "      if(((i + 1) % history_delta) == 0):  \n",
    "         print(f\"iteration = {i+1} , cost = {cost(position)}\");\n",
    "         cost_history.append(cost(position));    \n",
    "   return [position, cost_history];"
   ]
  },
  {
   "cell_type": "markdown",
   "metadata": {},
   "source": [
    "Initialize variables and scale features"
   ]
  },
  {
   "cell_type": "code",
   "execution_count": 590,
   "metadata": {},
   "outputs": [],
   "source": [
    "x_org = np.array(year);\n",
    "y_org = np.array(price);\n",
    "# feature scaling\n",
    "x = (x_org - np.min(x_org))/(np.max(x_org)-np.min(x_org));\n",
    "y = (y_org - np.min(y_org))/(np.max(y_org)-np.min(y_org));\n",
    "\n",
    "initial = np.array([0, 0]);"
   ]
  },
  {
   "cell_type": "code",
   "execution_count": 591,
   "metadata": {},
   "outputs": [
    {
     "name": "stdout",
     "output_type": "stream",
     "text": [
      "cost: 0.1452269732902144\n"
     ]
    }
   ],
   "source": [
    "def cost(position):\n",
    "    alpha = position[0];\n",
    "    beta = position[1];\n",
    "    m = y.shape[0];\n",
    "    return 1/(2*m)*np.sum(np.square(alpha*x+beta-y));\n",
    "\n",
    "print(\"cost: \" + str(cost(initial)));"
   ]
  },
  {
   "cell_type": "markdown",
   "metadata": {},
   "source": [
    "Cost should be around: 0.1452"
   ]
  },
  {
   "cell_type": "code",
   "execution_count": 592,
   "metadata": {},
   "outputs": [],
   "source": [
    "def gradient(position):\n",
    "    alpha = position[0];\n",
    "    beta = position[1];\n",
    "    m = y.shape[0];\n",
    "    delta_alpha = (1/m)*np.sum(np.multiply(alpha*x+beta-y,x));\n",
    "    delta_beta = (1/m)*np.sum(alpha*x+beta-y);\n",
    "    return np.array([delta_alpha, delta_beta]);"
   ]
  },
  {
   "cell_type": "markdown",
   "metadata": {},
   "source": [
    "Test the gradient. Difference with approximation and calculated value should be close to zero."
   ]
  },
  {
   "cell_type": "code",
   "execution_count": 593,
   "metadata": {},
   "outputs": [
    {
     "name": "stdout",
     "output_type": "stream",
     "text": [
      "approx = [-0.3183288002309159, -0.43780682916133573], value = [-0.31834651 -0.43785683], diff = [-5.56259689e-05 -1.14192577e-04]\n"
     ]
    }
   ],
   "source": [
    "e = 0.0001\n",
    "approx = [(cost(initial+[e, 0])-cost(initial))/e, (cost(initial+[0, e])-cost(initial))/e]\n",
    "value = gradient(initial)\n",
    "print(f\"approx = {approx}, value = {value}, diff = {(approx-value)/value}\")"
   ]
  },
  {
   "cell_type": "code",
   "execution_count": 594,
   "metadata": {},
   "outputs": [
    {
     "name": "stdout",
     "output_type": "stream",
     "text": [
      "iteration = 10 , cost = 0.007371304600662321\n",
      "iteration = 20 , cost = 0.0029113682622553816\n",
      "iteration = 30 , cost = 0.002103421930298153\n",
      "iteration = 40 , cost = 0.0019570572232988784\n",
      "iteration = 50 , cost = 0.0019305423093650687\n",
      "iteration = 60 , cost = 0.0019257389611035177\n",
      "iteration = 70 , cost = 0.0019248688034790452\n",
      "iteration = 80 , cost = 0.0019247111687937797\n",
      "iteration = 90 , cost = 0.0019246826122503449\n",
      "iteration = 100 , cost = 0.001924677439047687\n",
      "alpha = 0.9542668597788185, beta = -0.03927005345575051\n"
     ]
    }
   ],
   "source": [
    "[[alpha, beta], cost_history] = gradientDescent(cost, gradient, initial, 1, 100, 10)\n",
    "print(f\"alpha = {alpha}, beta = {beta}\")"
   ]
  },
  {
   "cell_type": "code",
   "execution_count": 595,
   "metadata": {},
   "outputs": [
    {
     "name": "stdout",
     "output_type": "stream",
     "text": [
      "Price at year 2030 is estimated to be 2292.638465285798:f.2\n"
     ]
    },
    {
     "data": {
      "image/png": "[encoded data removed]",
      "text/plain": [
       "<Figure size 648x216 with 2 Axes>"
      ]
     },
     "metadata": {
      "needs_background": "light"
     },
     "output_type": "display_data"
    }
   ],
   "source": [
    "scaled_x = (np.array([2009, 2030]) - np.min(x_org))/(np.max(x_org)-np.min(x_org));\n",
    "calculated_prices = (alpha*scaled_x+beta)*(np.max(y_org)-np.min(y_org))+np.min(y_org)\n",
    "plt.figure(figsize=(9,3))\n",
    "\n",
    "plt.subplot(1, 2, 1);\n",
    "plt.title(\"price\")\n",
    "plt.scatter(year,price);\n",
    "plt.plot([2009, 2030], calculated_prices);\n",
    "#plt.plot([2009, 2030], initial[0]*np.array([2009, 2030])+initial[1]);\n",
    "plt.xlim([2009, 2030]);\n",
    "plt.ylim([1650, 3000]);\n",
    "\n",
    "plt.subplot(1, 2, 2);\n",
    "plt.title(\"cost\")\n",
    "plt.plot(cost_history);\n",
    "\n",
    "plt.tight_layout()\n",
    "\n",
    "print(f\"Price at year 2030 is estimated to be {calculated_prices[1]}:f.2\")"
   ]
  },
  {
   "cell_type": "markdown",
   "metadata": {},
   "source": [
    "### Exercise 2: Linear regression + MNIST"
   ]
  },
  {
   "cell_type": "markdown",
   "metadata": {},
   "source": [
    "Import [MNIST data](http://yann.lecun.com/exdb/mnist/) and convert from int to float"
   ]
  },
  {
   "cell_type": "code",
   "execution_count": 3,
   "metadata": {},
   "outputs": [],
   "source": [
    "(x_train, y_train), (x_test, y_test) = tf.keras.datasets.mnist.load_data()\n",
    "x_train, x_test = x_train / 255.0, x_test / 255.0"
   ]
  },
  {
   "cell_type": "code",
   "execution_count": 4,
   "metadata": {},
   "outputs": [],
   "source": [
    "x_train = np.reshape(x_train, (60000, 784))\n",
    "x_test = np.reshape(x_test, (10000, 784))\n",
    "\n",
    "initial_theta = np.zeros(x_train.shape[1])"
   ]
  },
  {
   "cell_type": "code",
   "execution_count": 598,
   "metadata": {},
   "outputs": [
    {
     "name": "stdout",
     "output_type": "stream",
     "text": [
      "cost: 14.092633333333334\n"
     ]
    }
   ],
   "source": [
    "def cost(theta):\n",
    "    m = y_train.shape[0];\n",
    "    return 1/(2*m)*np.sum(np.square(np.dot(x_train, theta)-y_train));\n",
    "\n",
    "print(\"cost: \" + str(cost(initial_theta)));"
   ]
  },
  {
   "cell_type": "code",
   "execution_count": 599,
   "metadata": {},
   "outputs": [
    {
     "name": "stdout",
     "output_type": "stream",
     "text": [
      "gradient.shape = (784,)\n",
      "gradient = [ 0.00000000e+00  0.00000000e+00  0.00000000e+00  0.00000000e+00\n",
      "  0.00000000e+00  0.00000000e+00  0.00000000e+00  0.00000000e+00\n",
      "  0.00000000e+00  0.00000000e+00  0.00000000e+00  0.00000000e+00\n",
      " -4.67973856e-05 -1.27843137e-04 -2.82352941e-05 -1.17647059e-06\n",
      "  0.00000000e+00  0.00000000e+00  0.00000000e+00  0.00000000e+00\n",
      "  0.00000000e+00  0.00000000e+00  0.00000000e+00  0.00000000e+00\n",
      "  0.00000000e+00  0.00000000e+00  0.00000000e+00  0.00000000e+00\n",
      "  0.00000000e+00  0.00000000e+00  0.00000000e+00  0.00000000e+00\n",
      " -6.27450980e-06 -2.15686275e-05 -2.18431373e-04 -5.67189542e-04\n",
      " -9.55686275e-04 -1.41516340e-03 -2.66771242e-03 -3.54483660e-03\n",
      " -3.89620915e-03 -3.98339869e-03 -4.04209150e-03 -3.60535948e-03\n",
      " -3.75457516e-03 -3.34692810e-03 -2.33686275e-03 -1.67607843e-03\n",
      " -1.26627451e-03 -5.02745098e-04 -2.37254902e-04 -8.31372549e-05\n",
      "  0.00000000e+00  0.00000000e+00  0.00000000e+00  0.00000000e+00\n",
      "  0.00000000e+00  0.00000000e+00 -2.50980392e-05 -5.09803922e-06\n",
      " -1.59607843e-04 -1.17254902e-04 -9.55424837e-04 -2.77699346e-03\n",
      " -5.25058824e-03 -1.00030065e-02 -1.75027451e-02 -2.62179739e-02\n",
      " -3.86991503e-02 -5.32397386e-02 -6.81307190e-02 -7.79007843e-02\n",
      " -8.18405229e-02 -7.62390196e-02 -6.41221569e-02 -4.71200654e-02\n",
      " -2.79484314e-02 -1.47981046e-02 -6.92437908e-03 -2.14647059e-03\n",
      " -7.37647059e-04 -1.60000000e-04  0.00000000e+00  0.00000000e+00\n",
      "  0.00000000e+00  0.00000000e+00 -5.94771242e-05 -9.72549020e-05\n",
      " -2.03202614e-04 -9.19411765e-04 -2.98921569e-03 -7.94359477e-03\n",
      " -1.62975817e-02 -3.14020915e-02 -5.28345098e-02 -7.94742484e-02\n",
      " -1.10716471e-01 -1.50029739e-01 -1.93651046e-01 -2.24654444e-01\n",
      " -2.31156601e-01 -2.16974837e-01 -1.82293268e-01 -1.33235752e-01\n",
      " -8.23122876e-02 -4.55802614e-02 -2.17363399e-02 -8.68228758e-03\n",
      " -3.44294118e-03 -5.51699346e-04 -6.28104575e-05  0.00000000e+00\n",
      "  0.00000000e+00 -7.45098039e-06 -5.31372549e-05 -1.85816993e-04\n",
      " -1.00758170e-03 -4.89803922e-03 -1.22950980e-02 -2.88763399e-02\n",
      " -5.73432680e-02 -1.02359542e-01 -1.64971373e-01 -2.41244837e-01\n",
      " -3.34149542e-01 -4.37617647e-01 -5.28058562e-01 -5.79832484e-01\n",
      " -5.77954118e-01 -5.14858039e-01 -4.16423399e-01 -3.04947712e-01\n",
      " -2.03181046e-01 -1.26857647e-01 -7.24387582e-02 -3.80324183e-02\n",
      " -1.65169935e-02 -4.27379085e-03 -6.80326797e-04 -5.55555556e-05\n",
      "  0.00000000e+00  0.00000000e+00 -1.63137255e-04 -7.10457516e-04\n",
      " -4.82464052e-03 -1.77230065e-02 -4.32160131e-02 -8.86851634e-02\n",
      " -1.64095490e-01 -2.74049935e-01 -4.14414967e-01 -5.93809216e-01\n",
      " -8.04981699e-01 -1.00956072e+00 -1.16414948e+00 -1.23943118e+00\n",
      " -1.21643307e+00 -1.09604098e+00 -9.00668366e-01 -6.83282092e-01\n",
      " -4.84115752e-01 -3.22084379e-01 -2.03635490e-01 -1.20681961e-01\n",
      " -5.83498693e-02 -1.76118954e-02 -3.09477124e-03 -1.07450980e-04\n",
      "  0.00000000e+00 -2.15686275e-06 -5.73202614e-04 -3.03862745e-03\n",
      " -1.52266013e-02 -4.45039216e-02 -1.01317843e-01 -1.97281176e-01\n",
      " -3.44294379e-01 -5.49178039e-01 -8.06796601e-01 -1.11056824e+00\n",
      " -1.42902739e+00 -1.71013039e+00 -1.90264078e+00 -1.97335974e+00\n",
      " -1.90668327e+00 -1.72045843e+00 -1.44457922e+00 -1.11811222e+00\n",
      " -8.07807386e-01 -5.48237255e-01 -3.50472941e-01 -2.11404837e-01\n",
      " -1.08274706e-01 -3.91654902e-02 -7.94307190e-03 -6.44183007e-04\n",
      " -2.15032680e-05 -4.09150327e-04 -2.60522876e-03 -1.14126797e-02\n",
      " -3.99562092e-02 -9.86766013e-02 -2.05446405e-01 -3.73411634e-01\n",
      " -6.14994967e-01 -9.32424902e-01 -1.31309373e+00 -1.72315176e+00\n",
      " -2.07349451e+00 -2.31216431e+00 -2.40596967e+00 -2.39509314e+00\n",
      " -2.30157163e+00 -2.13144621e+00 -1.87012248e+00 -1.51751039e+00\n",
      " -1.12071353e+00 -7.56814575e-01 -4.71153072e-01 -2.81205425e-01\n",
      " -1.44059477e-01 -5.47730065e-02 -1.10649020e-02 -6.75294118e-04\n",
      " -8.73856209e-05 -1.32124183e-03 -8.60267974e-03 -3.00254248e-02\n",
      " -7.68867320e-02 -1.66425229e-01 -3.20874771e-01 -5.62857974e-01\n",
      " -8.99169477e-01 -1.32700536e+00 -1.80042176e+00 -2.19707216e+00\n",
      " -2.41458451e+00 -2.42110699e+00 -2.29565353e+00 -2.18120346e+00\n",
      " -2.14810980e+00 -2.13023908e+00 -2.02273601e+00 -1.72824673e+00\n",
      " -1.29536281e+00 -8.70319281e-01 -5.26240654e-01 -2.91704902e-01\n",
      " -1.46886928e-01 -5.72977124e-02 -1.07338562e-02 -6.75359477e-04\n",
      " -1.33594771e-04 -2.09450980e-03 -1.36141176e-02 -4.21683007e-02\n",
      " -1.00873987e-01 -2.10918431e-01 -4.03172288e-01 -7.01193529e-01\n",
      " -1.11832928e+00 -1.61775431e+00 -2.07444222e+00 -2.31771261e+00\n",
      " -2.26789627e+00 -2.00393229e+00 -1.73186732e+00 -1.63476739e+00\n",
      " -1.75640379e+00 -1.96639170e+00 -2.02742588e+00 -1.79488621e+00\n",
      " -1.33585863e+00 -8.60670719e-01 -4.88885490e-01 -2.47514837e-01\n",
      " -1.14771830e-01 -4.32852941e-02 -8.18562092e-03 -7.14640523e-04\n",
      " -1.83006536e-04 -2.62614379e-03 -1.39951634e-02 -4.19345752e-02\n",
      " -1.02859542e-01 -2.18919477e-01 -4.30144771e-01 -7.65409085e-01\n",
      " -1.23651209e+00 -1.74173007e+00 -2.10171314e+00 -2.13208614e+00\n",
      " -1.85220863e+00 -1.46731105e+00 -1.21312359e+00 -1.25052340e+00\n",
      " -1.55303660e+00 -1.93428837e+00 -2.07361935e+00 -1.81470333e+00\n",
      " -1.28200588e+00 -7.64928431e-01 -3.93025752e-01 -1.73221699e-01\n",
      " -7.29322222e-02 -2.69735294e-02 -5.22464052e-03 -5.01045752e-04\n",
      " -1.62875817e-04 -2.03516340e-03 -1.12960784e-02 -3.24629412e-02\n",
      " -8.75193464e-02 -2.04638693e-01 -4.24596667e-01 -7.94326993e-01\n",
      " -1.29705967e+00 -1.78315791e+00 -2.01195556e+00 -1.89085203e+00\n",
      " -1.54128699e+00 -1.20359118e+00 -1.07527830e+00 -1.25530412e+00\n",
      " -1.70320869e+00 -2.14324922e+00 -2.20320673e+00 -1.79648765e+00\n",
      " -1.17122392e+00 -6.29893268e-01 -2.95569216e-01 -1.19286013e-01\n",
      " -4.41033333e-02 -1.35047712e-02 -3.01699346e-03 -1.74313725e-04\n",
      " -1.04313725e-04 -1.16333333e-03 -6.52960784e-03 -2.26886928e-02\n",
      " -7.12866667e-02 -1.86261830e-01 -4.17414837e-01 -8.14878105e-01\n",
      " -1.33378850e+00 -1.77401634e+00 -1.91992850e+00 -1.76660895e+00\n",
      " -1.49100176e+00 -1.31195797e+00 -1.34648124e+00 -1.66799739e+00\n",
      " -2.17038719e+00 -2.49400961e+00 -2.31771405e+00 -1.72093484e+00\n",
      " -1.02856176e+00 -5.21842680e-01 -2.38515490e-01 -9.84702614e-02\n",
      " -3.56500654e-02 -8.06673203e-03 -1.68947712e-03 -2.11045752e-04\n",
      " -2.09150327e-06 -4.22549020e-04 -3.24895425e-03 -1.55800654e-02\n",
      " -6.12699346e-02 -1.76264575e-01 -4.18195163e-01 -8.23438954e-01\n",
      " -1.33286961e+00 -1.73519641e+00 -1.86132353e+00 -1.77614582e+00\n",
      " -1.67512085e+00 -1.69370157e+00 -1.87397562e+00 -2.25676353e+00\n",
      " -2.66314712e+00 -2.75158778e+00 -2.32568706e+00 -1.59684621e+00\n",
      " -9.11771438e-01 -4.74529020e-01 -2.32910261e-01 -1.08812745e-01\n",
      " -4.37766667e-02 -9.22594771e-03 -1.24209150e-03 -1.15947712e-04\n",
      " -3.69281046e-05 -1.60915033e-04 -1.42921569e-03 -1.12887582e-02\n",
      " -5.28664706e-02 -1.68890458e-01 -4.11986928e-01 -8.01566013e-01\n",
      " -1.27963183e+00 -1.66385458e+00 -1.82946706e+00 -1.86645124e+00\n",
      " -1.93198353e+00 -2.09858621e+00 -2.34377928e+00 -2.68054033e+00\n",
      " -2.90478719e+00 -2.76981941e+00 -2.19644052e+00 -1.46162209e+00\n",
      " -8.65907059e-01 -4.87125163e-01 -2.64641111e-01 -1.31901438e-01\n",
      " -5.39238562e-02 -1.24941176e-02 -9.23333333e-04 -1.73856209e-05\n",
      " -1.52941176e-05 -4.58823529e-05 -7.99150327e-04 -1.00230719e-02\n",
      " -4.57052288e-02 -1.59388301e-01 -3.88328170e-01 -7.37686863e-01\n",
      " -1.16980379e+00 -1.55140346e+00 -1.77895922e+00 -1.91024451e+00\n",
      " -2.06301320e+00 -2.25655660e+00 -2.48225386e+00 -2.74168118e+00\n",
      " -2.82604915e+00 -2.57478856e+00 -1.97552948e+00 -1.33971595e+00\n",
      " -8.56315817e-01 -5.21336275e-01 -2.99397190e-01 -1.48829412e-01\n",
      " -6.00709804e-02 -1.58624183e-02 -1.43490196e-03 -8.57516340e-05\n",
      " -1.83006536e-05 -4.15686275e-05 -8.89542484e-04 -9.52294118e-03\n",
      " -4.29148366e-02 -1.50763399e-01 -3.50614510e-01 -6.43747190e-01\n",
      " -1.01826536e+00 -1.37933235e+00 -1.63469209e+00 -1.79473928e+00\n",
      " -1.92981641e+00 -2.07348895e+00 -2.30352699e+00 -2.55006229e+00\n",
      " -2.58453725e+00 -2.28439118e+00 -1.75197399e+00 -1.24184405e+00\n",
      " -8.44820784e-01 -5.31543007e-01 -3.08014902e-01 -1.51572614e-01\n",
      " -6.15065359e-02 -1.66151634e-02 -1.75084967e-03 -9.63398693e-05\n",
      "  0.00000000e+00 -8.58169935e-05 -1.32098039e-03 -1.11786275e-02\n",
      " -4.72176471e-02 -1.46956993e-01 -3.17564118e-01 -5.59881503e-01\n",
      " -8.68050196e-01 -1.19041314e+00 -1.42825712e+00 -1.55650654e+00\n",
      " -1.62203503e+00 -1.75742588e+00 -2.04882013e+00 -2.31684608e+00\n",
      " -2.33435562e+00 -2.04227895e+00 -1.60770562e+00 -1.18623144e+00\n",
      " -8.20782418e-01 -5.14224837e-01 -2.89219020e-01 -1.41101699e-01\n",
      " -5.64073203e-02 -1.55104575e-02 -1.87424837e-03 -5.69934641e-05\n",
      " -5.76470588e-05 -7.03921569e-05 -2.21424837e-03 -1.62995425e-02\n",
      " -6.02363399e-02 -1.60029869e-01 -3.18296275e-01 -5.29610523e-01\n",
      " -7.93365621e-01 -1.07974059e+00 -1.29013850e+00 -1.37318190e+00\n",
      " -1.40901621e+00 -1.59606078e+00 -1.93364869e+00 -2.19559229e+00\n",
      " -2.19139634e+00 -1.93002412e+00 -1.55127732e+00 -1.14110229e+00\n",
      " -7.70940000e-01 -4.71831503e-01 -2.62208562e-01 -1.25588693e-01\n",
      " -4.73217647e-02 -1.26183007e-02 -1.34143791e-03 -8.03267974e-05\n",
      " -9.80392157e-07 -1.74183007e-04 -3.40908497e-03 -2.13686928e-02\n",
      " -7.29267320e-02 -1.83773725e-01 -3.47467843e-01 -5.60052484e-01\n",
      " -8.13341176e-01 -1.07232451e+00 -1.26726758e+00 -1.35188974e+00\n",
      " -1.45728810e+00 -1.69110392e+00 -2.01036503e+00 -2.20090804e+00\n",
      " -2.14273451e+00 -1.87069072e+00 -1.47648928e+00 -1.05228359e+00\n",
      " -6.83924902e-01 -4.04673333e-01 -2.18978301e-01 -1.00711242e-01\n",
      " -3.59630065e-02 -9.51320261e-03 -1.22477124e-03 -4.30718954e-05\n",
      "  0.00000000e+00 -1.64575163e-04 -3.82535948e-03 -2.35976471e-02\n",
      " -7.57791503e-02 -1.90060850e-01 -3.73196797e-01 -6.04200588e-01\n",
      " -8.60487908e-01 -1.11407418e+00 -1.33016235e+00 -1.49516693e+00\n",
      " -1.69811771e+00 -1.95989248e+00 -2.18480608e+00 -2.23739634e+00\n",
      " -2.07672752e+00 -1.74697516e+00 -1.32330137e+00 -8.96848562e-01\n",
      " -5.53317712e-01 -3.12163137e-01 -1.62096601e-01 -7.25016340e-02\n",
      " -2.63892810e-02 -6.96836601e-03 -9.49411765e-04 -1.96732026e-05\n",
      " -2.09150327e-06 -1.36013072e-04 -3.18013072e-03 -1.91956863e-02\n",
      " -6.27460131e-02 -1.67879216e-01 -3.53510523e-01 -5.96571634e-01\n",
      " -8.66067647e-01 -1.14118922e+00 -1.41280105e+00 -1.68085732e+00\n",
      " -1.95086961e+00 -2.17585595e+00 -2.25775876e+00 -2.15113078e+00\n",
      " -1.88332549e+00 -1.49779288e+00 -1.06709366e+00 -6.89091046e-01\n",
      " -4.05926928e-01 -2.17463529e-01 -1.08132222e-01 -4.69056209e-02\n",
      " -1.69037908e-02 -4.25267974e-03 -4.89673203e-04  0.00000000e+00\n",
      " -2.02614379e-06 -1.02614379e-05 -2.08849673e-03 -1.17182353e-02\n",
      " -4.09828758e-02 -1.17623856e-01 -2.72167582e-01 -4.98357647e-01\n",
      " -7.82401503e-01 -1.09310386e+00 -1.42673281e+00 -1.74144248e+00\n",
      " -1.99634817e+00 -2.11085248e+00 -2.06267190e+00 -1.84960386e+00\n",
      " -1.52916216e+00 -1.15533804e+00 -7.81123333e-01 -4.78623072e-01\n",
      " -2.71392026e-01 -1.39181765e-01 -6.68000654e-02 -2.81394118e-02\n",
      " -9.31973856e-03 -2.10771242e-03 -1.60588235e-04  0.00000000e+00\n",
      "  0.00000000e+00  0.00000000e+00 -7.54771242e-04 -4.89281046e-03\n",
      " -2.08386275e-02 -6.35192157e-02 -1.64214575e-01 -3.41224771e-01\n",
      " -5.95170196e-01 -9.05983464e-01 -1.25064686e+00 -1.56815634e+00\n",
      " -1.76795601e+00 -1.80157765e+00 -1.66210412e+00 -1.40945941e+00\n",
      " -1.10740268e+00 -7.98738693e-01 -5.13938235e-01 -3.06286863e-01\n",
      " -1.68034706e-01 -8.31883007e-02 -3.91315686e-02 -1.62960784e-02\n",
      " -4.82019608e-03 -8.05228758e-04 -8.15032680e-05  0.00000000e+00\n",
      "  0.00000000e+00  0.00000000e+00 -2.13921569e-04 -1.66581699e-03\n",
      " -8.26647059e-03 -2.67813072e-02 -7.73686928e-02 -1.78956340e-01\n",
      " -3.41289477e-01 -5.62501830e-01 -8.12985817e-01 -1.02455490e+00\n",
      " -1.14285503e+00 -1.13412242e+00 -1.01318536e+00 -8.31701046e-01\n",
      " -6.42633464e-01 -4.62588366e-01 -3.00509739e-01 -1.81566667e-01\n",
      " -1.00507778e-01 -4.96260784e-02 -2.28791503e-02 -9.65026144e-03\n",
      " -2.13228758e-03 -3.03071895e-04 -1.39869281e-05  0.00000000e+00\n",
      "  0.00000000e+00  0.00000000e+00 -3.25490196e-05 -4.03986928e-04\n",
      " -3.06431373e-03 -1.23998039e-02 -3.70962092e-02 -8.52525490e-02\n",
      " -1.66111895e-01 -2.68537516e-01 -3.83444902e-01 -4.66684248e-01\n",
      " -5.08243137e-01 -4.97861961e-01 -4.41964641e-01 -3.70511111e-01\n",
      " -3.02071438e-01 -2.29659216e-01 -1.56882484e-01 -9.64864052e-02\n",
      " -5.28564706e-02 -2.59130719e-02 -1.12243137e-02 -4.22013072e-03\n",
      " -8.99150327e-04 -8.60784314e-05 -1.35947712e-05  0.00000000e+00\n",
      "  0.00000000e+00  0.00000000e+00  0.00000000e+00 -2.23529412e-05\n",
      " -1.08006536e-03 -4.68797386e-03 -1.53011765e-02 -3.38594118e-02\n",
      " -6.58277778e-02 -1.00599542e-01 -1.39520065e-01 -1.73401307e-01\n",
      " -1.88057059e-01 -1.83096078e-01 -1.63648039e-01 -1.31174902e-01\n",
      " -1.06039739e-01 -7.88719608e-02 -5.26047712e-02 -3.18920261e-02\n",
      " -1.75898039e-02 -7.61444444e-03 -2.33267974e-03 -4.91111111e-04\n",
      " -1.72549020e-05 -2.69934641e-05  0.00000000e+00  0.00000000e+00\n",
      "  0.00000000e+00  0.00000000e+00  0.00000000e+00  0.00000000e+00\n",
      " -6.95424837e-05 -4.27777778e-04 -1.14823529e-03 -2.47908497e-03\n",
      " -3.55000000e-03 -5.45084967e-03 -9.32503268e-03 -1.18938562e-02\n",
      " -1.45868627e-02 -1.63316993e-02 -1.91917647e-02 -1.64173856e-02\n",
      " -1.34092810e-02 -9.54202614e-03 -5.62810458e-03 -2.58549020e-03\n",
      " -1.39921569e-03 -5.94444444e-04 -4.41633987e-04 -5.49019608e-05\n",
      "  0.00000000e+00  0.00000000e+00  0.00000000e+00  0.00000000e+00]\n"
     ]
    }
   ],
   "source": [
    "def gradient(theta):\n",
    "    m = y_train.shape[0];\n",
    "    XthetaMinusY = np.dot(x_train, theta)-y_train\n",
    "    return (1/m)*np.dot(XthetaMinusY, x_train);\n",
    "\n",
    "print(f\"gradient.shape = {gradient(initial_theta).shape}\")\n",
    "print(f\"gradient = {gradient(initial_theta)}\")"
   ]
  },
  {
   "cell_type": "markdown",
   "metadata": {},
   "source": [
    "Test the gradient. Difference with approximation and calculated value should be close to zero."
   ]
  },
  {
   "cell_type": "code",
   "execution_count": 600,
   "metadata": {},
   "outputs": [
    {
     "name": "stdout",
     "output_type": "stream",
     "text": [
      "approx = -0.00012789769243681803, value = -0.00012784313725490196, diff = 0.00042673531866868354\n"
     ]
    }
   ],
   "source": [
    "e = 1e-9\n",
    "add_e = np.zeros(784);\n",
    "add_e[13] = e;\n",
    "approx = (cost(initial_theta+add_e)-cost(initial_theta))/e\n",
    "value = gradient(initial_theta)[13]\n",
    "print(f\"approx = {approx}, value = {value}, diff = {(approx-value)/value}\")"
   ]
  },
  {
   "cell_type": "code",
   "execution_count": 601,
   "metadata": {},
   "outputs": [
    {
     "name": "stdout",
     "output_type": "stream",
     "text": [
      "iteration = 500 , cost = 2.1071376590097555\n",
      "iteration = 1000 , cost = 2.02830134940885\n",
      "iteration = 1500 , cost = 1.9872193626079182\n",
      "iteration = 2000 , cost = 1.9610789191134699\n",
      "iteration = 2500 , cost = 1.9427528155819729\n",
      "iteration = 3000 , cost = 1.9291394038191554\n",
      "iteration = 3500 , cost = 1.9186323716055624\n",
      "iteration = 4000 , cost = 1.9102975257700205\n",
      "iteration = 4500 , cost = 1.9035460222192413\n",
      "iteration = 5000 , cost = 1.8979847457884147\n",
      "iteration = 5500 , cost = 1.8933398669058688\n",
      "iteration = 6000 , cost = 1.8894143299264636\n",
      "iteration = 6500 , cost = 1.886062607465827\n",
      "iteration = 7000 , cost = 1.8831749203516412\n",
      "iteration = 7500 , cost = 1.8806669656689095\n",
      "iteration = 8000 , cost = 1.8784730071961002\n",
      "iteration = 8500 , cost = 1.8765410997631047\n",
      "iteration = 9000 , cost = 1.8748297120245438\n",
      "iteration = 9500 , cost = 1.8733052906641048\n",
      "iteration = 10000 , cost = 1.87194047313215\n"
     ]
    }
   ],
   "source": [
    "[theta, cost_history] = gradientDescent(cost, gradient, initial_theta, 1e-2, 10000, 500);\n"
   ]
  },
  {
   "cell_type": "code",
   "execution_count": 602,
   "metadata": {},
   "outputs": [
    {
     "name": "stdout",
     "output_type": "stream",
     "text": [
      "accuracy = 0.2399\n"
     ]
    },
    {
     "data": {
      "image/png": "[encoded data removed]",
      "text/plain": [
       "<Figure size 432x288 with 1 Axes>"
      ]
     },
     "metadata": {
      "needs_background": "light"
     },
     "output_type": "display_data"
    }
   ],
   "source": [
    "plt.title(\"cost\")\n",
    "plt.plot(cost_history);\n",
    "\n",
    "predictions_test = np.round(np.dot(x_test, theta));\n",
    "accuracy = np.sum(predictions_test == y_test)/y_test.shape[0];\n",
    "print(f\"accuracy = {accuracy}\")"
   ]
  },
  {
   "cell_type": "code",
   "execution_count": 25,
   "metadata": {},
   "outputs": [],
   "source": [
    "def drawNFirst(predictions, n):\n",
    "   pic = 1;\n",
    "   for i in predictions[:n]:\n",
    "      plt.subplot(1, n, pic); pic += 1; \n",
    "      pixels = x_test[i].reshape((28, 28))\n",
    "      plt.imshow(pixels, cmap='gray')\n",
    "      plt.title(f\"{predictions_test[i]}\")\n",
    "      plt.axis('off')"
   ]
  },
  {
   "cell_type": "code",
   "execution_count": 609,
   "metadata": {},
   "outputs": [
    {
     "data": {
      "image/png": "[encoded data removed]",
      "text/plain": [
       "<Figure size 432x288 with 10 Axes>"
      ]
     },
     "metadata": {
      "needs_background": "light"
     },
     "output_type": "display_data"
    }
   ],
   "source": [
    "correct_predictions = np.argwhere(predictions_test == y_test)\n",
    "drawNFirst(correct_predictions, 10)"
   ]
  },
  {
   "cell_type": "code",
   "execution_count": 611,
   "metadata": {},
   "outputs": [
    {
     "data": {
      "image/png": "[encoded data removed]",
      "text/plain": [
       "<Figure size 432x288 with 10 Axes>"
      ]
     },
     "metadata": {
      "needs_background": "light"
     },
     "output_type": "display_data"
    }
   ],
   "source": [
    "wrong_predictions = np.argwhere(predictions_test != y_test)\n",
    "drawNFirst(wrong_predictions, 10)"
   ]
  },
  {
   "cell_type": "markdown",
   "metadata": {},
   "source": [
    "### Exercise 3: Tensorflow and neural network"
   ]
  },
  {
   "cell_type": "code",
   "execution_count": 9,
   "metadata": {
    "scrolled": true
   },
   "outputs": [
    {
     "name": "stdout",
     "output_type": "stream",
     "text": [
      "Train on 60000 samples\n",
      "Epoch 1/5\n",
      "60000/60000 [==============================] - 4s 72us/sample - loss: 0.3599 - accuracy: 0.8999\n",
      "Epoch 2/5\n",
      "60000/60000 [==============================] - 4s 66us/sample - loss: 0.1944 - accuracy: 0.9445\n",
      "Epoch 3/5\n",
      "60000/60000 [==============================] - 4s 66us/sample - loss: 0.1535 - accuracy: 0.9551\n",
      "Epoch 4/5\n",
      "60000/60000 [==============================] - 4s 68us/sample - loss: 0.1296 - accuracy: 0.9615\n",
      "Epoch 5/5\n",
      "60000/60000 [==============================] - 4s 71us/sample - loss: 0.1122 - accuracy: 0.9663\n",
      "10000/1 - 1s - loss: 0.0873 - accuracy: 0.9628\n"
     ]
    },
    {
     "data": {
      "text/plain": [
       "[0.12817912661582231, 0.9628]"
      ]
     },
     "execution_count": 9,
     "metadata": {},
     "output_type": "execute_result"
    }
   ],
   "source": [
    "model = tf.keras.models.Sequential([\n",
    "  tf.keras.layers.Dense(30, activation='relu'),\n",
    "  tf.keras.layers.Dense(10, activation='softmax')\n",
    "])\n",
    "\n",
    "model.compile(optimizer='adam',\n",
    "              loss='sparse_categorical_crossentropy',\n",
    "              metrics=['accuracy'])\n",
    "\n",
    "model.fit(x_train, y_train, epochs=5)\n",
    "\n",
    "model.evaluate(x_test,  y_test, verbose=2)"
   ]
  },
  {
   "cell_type": "code",
   "execution_count": 23,
   "metadata": {},
   "outputs": [
    {
     "name": "stdout",
     "output_type": "stream",
     "text": [
      "10000/1 - 0s - loss: 0.0873 - accuracy: 0.9628\n",
      "(10000, 10)\n",
      "(10000,)\n",
      "model predictions are 'probabilities':\n",
      "[1.9551713e-05 1.8251471e-07 2.4695066e-05 1.3341098e-03 7.5819585e-08\n",
      " 3.6704887e-06 3.5443519e-12 9.9854350e-01 7.0423566e-06 6.7263434e-05]\n",
      "the value is '7''\n"
     ]
    }
   ],
   "source": [
    "model.evaluate(x_test,  y_test, verbose=2);\n",
    "predictions = model.predict(x_test)\n",
    "print(predictions.shape)\n",
    "print(y_test.shape)\n",
    "print(f\"model predictions are 'probabilities':\")\n",
    "print(f\"{predictions[0]}\")\n",
    "print(f\"the value is '{y_test[0]}''\")\n",
    "predictions_test = np.argmax(predictions, axis=1) # contains predicted values "
   ]
  },
  {
   "cell_type": "code",
   "execution_count": 26,
   "metadata": {},
   "outputs": [
    {
     "data": {
      "image/png": "[encoded data removed]",
      "text/plain": [
       "<Figure size 432x288 with 10 Axes>"
      ]
     },
     "metadata": {
      "needs_background": "light"
     },
     "output_type": "display_data"
    }
   ],
   "source": [
    "correct_predictions = np.argwhere(predictions_test == y_test)\n",
    "drawNFirst(correct_predictions, 10)"
   ]
  },
  {
   "cell_type": "code",
   "execution_count": 27,
   "metadata": {},
   "outputs": [
    {
     "data": {
      "image/png": "[encoded data removed]",
      "text/plain": [
       "<Figure size 432x288 with 10 Axes>"
      ]
     },
     "metadata": {
      "needs_background": "light"
     },
     "output_type": "display_data"
    }
   ],
   "source": [
    "correct_predictions = np.argwhere(predictions_test != y_test)\n",
    "drawNFirst(correct_predictions, 10)"
   ]
  },
  {
   "cell_type": "markdown",
   "metadata": {},
   "source": [
    "### Exercise 4: Tensorflow and Convolutional neural networks"
   ]
  },
  {
   "cell_type": "code",
   "execution_count": 612,
   "metadata": {},
   "outputs": [],
   "source": [
    "# https://www.tensorflow.org/tutorials/quickstart/beginner\n",
    "(x_train, y_train), (x_test, y_test) = tf.keras.datasets.mnist.load_data()\n",
    "x_train, x_test = x_train / 255.0, x_test / 255.0\n",
    "\n",
    "model = tf.keras.models.Sequential([\n",
    "  tf.keras.layers.Flatten(input_shape=(28, 28)),\n",
    "  tf.keras.layers.Dense(128, activation='relu'),\n",
    "  tf.keras.layers.Dropout(0.2),\n",
    "  tf.keras.layers.Dense(10, activation='softmax')\n",
    "])\n",
    "\n",
    "model.compile(optimizer='adam',\n",
    "              loss='sparse_categorical_crossentropy',\n",
    "              metrics=['accuracy'])"
   ]
  },
  {
   "cell_type": "code",
   "execution_count": 613,
   "metadata": {},
   "outputs": [
    {
     "ename": "ValueError",
     "evalue": "Error when checking input: expected flatten_6_input to have 3 dimensions, but got array with shape (60000, 784)",
     "output_type": "error",
     "traceback": [
      "\u001b[0;31m---------------------------------------------------------------------------\u001b[0m",
      "\u001b[0;31mValueError\u001b[0m                                Traceback (most recent call last)",
      "\u001b[0;32m<ipython-input-613-39e86978938a>\u001b[0m in \u001b[0;36m<module>\u001b[0;34m\u001b[0m\n\u001b[0;32m----> 1\u001b[0;31m \u001b[0mmodel\u001b[0m\u001b[0;34m.\u001b[0m\u001b[0mfit\u001b[0m\u001b[0;34m(\u001b[0m\u001b[0mx_train\u001b[0m\u001b[0;34m,\u001b[0m \u001b[0my_train\u001b[0m\u001b[0;34m,\u001b[0m \u001b[0mepochs\u001b[0m\u001b[0;34m=\u001b[0m\u001b[0;36m5\u001b[0m\u001b[0;34m)\u001b[0m\u001b[0;34m\u001b[0m\u001b[0;34m\u001b[0m\u001b[0m\n\u001b[0m\u001b[1;32m      2\u001b[0m \u001b[0;34m\u001b[0m\u001b[0m\n\u001b[1;32m      3\u001b[0m \u001b[0mmodel\u001b[0m\u001b[0;34m.\u001b[0m\u001b[0mevaluate\u001b[0m\u001b[0;34m(\u001b[0m\u001b[0mx_test\u001b[0m\u001b[0;34m,\u001b[0m  \u001b[0my_test\u001b[0m\u001b[0;34m,\u001b[0m \u001b[0mverbose\u001b[0m\u001b[0;34m=\u001b[0m\u001b[0;36m2\u001b[0m\u001b[0;34m)\u001b[0m\u001b[0;34m\u001b[0m\u001b[0;34m\u001b[0m\u001b[0m\n",
      "\u001b[0;32m/usr/local/lib/python3.6/dist-packages/tensorflow_core/python/keras/engine/training.py\u001b[0m in \u001b[0;36mfit\u001b[0;34m(self, x, y, batch_size, epochs, verbose, callbacks, validation_split, validation_data, shuffle, class_weight, sample_weight, initial_epoch, steps_per_epoch, validation_steps, validation_freq, max_queue_size, workers, use_multiprocessing, **kwargs)\u001b[0m\n\u001b[1;32m    726\u001b[0m         \u001b[0mmax_queue_size\u001b[0m\u001b[0;34m=\u001b[0m\u001b[0mmax_queue_size\u001b[0m\u001b[0;34m,\u001b[0m\u001b[0;34m\u001b[0m\u001b[0;34m\u001b[0m\u001b[0m\n\u001b[1;32m    727\u001b[0m         \u001b[0mworkers\u001b[0m\u001b[0;34m=\u001b[0m\u001b[0mworkers\u001b[0m\u001b[0;34m,\u001b[0m\u001b[0;34m\u001b[0m\u001b[0;34m\u001b[0m\u001b[0m\n\u001b[0;32m--> 728\u001b[0;31m         use_multiprocessing=use_multiprocessing)\n\u001b[0m\u001b[1;32m    729\u001b[0m \u001b[0;34m\u001b[0m\u001b[0m\n\u001b[1;32m    730\u001b[0m   def evaluate(self,\n",
      "\u001b[0;32m/usr/local/lib/python3.6/dist-packages/tensorflow_core/python/keras/engine/training_v2.py\u001b[0m in \u001b[0;36mfit\u001b[0;34m(self, model, x, y, batch_size, epochs, verbose, callbacks, validation_split, validation_data, shuffle, class_weight, sample_weight, initial_epoch, steps_per_epoch, validation_steps, validation_freq, **kwargs)\u001b[0m\n\u001b[1;32m    222\u001b[0m           \u001b[0mvalidation_data\u001b[0m\u001b[0;34m=\u001b[0m\u001b[0mvalidation_data\u001b[0m\u001b[0;34m,\u001b[0m\u001b[0;34m\u001b[0m\u001b[0;34m\u001b[0m\u001b[0m\n\u001b[1;32m    223\u001b[0m           \u001b[0mvalidation_steps\u001b[0m\u001b[0;34m=\u001b[0m\u001b[0mvalidation_steps\u001b[0m\u001b[0;34m,\u001b[0m\u001b[0;34m\u001b[0m\u001b[0;34m\u001b[0m\u001b[0m\n\u001b[0;32m--> 224\u001b[0;31m           distribution_strategy=strategy)\n\u001b[0m\u001b[1;32m    225\u001b[0m \u001b[0;34m\u001b[0m\u001b[0m\n\u001b[1;32m    226\u001b[0m       \u001b[0mtotal_samples\u001b[0m \u001b[0;34m=\u001b[0m \u001b[0m_get_total_number_of_samples\u001b[0m\u001b[0;34m(\u001b[0m\u001b[0mtraining_data_adapter\u001b[0m\u001b[0;34m)\u001b[0m\u001b[0;34m\u001b[0m\u001b[0;34m\u001b[0m\u001b[0m\n",
      "\u001b[0;32m/usr/local/lib/python3.6/dist-packages/tensorflow_core/python/keras/engine/training_v2.py\u001b[0m in \u001b[0;36m_process_training_inputs\u001b[0;34m(model, x, y, batch_size, epochs, sample_weights, class_weights, steps_per_epoch, validation_split, validation_data, validation_steps, shuffle, distribution_strategy, max_queue_size, workers, use_multiprocessing)\u001b[0m\n\u001b[1;32m    545\u001b[0m         \u001b[0mmax_queue_size\u001b[0m\u001b[0;34m=\u001b[0m\u001b[0mmax_queue_size\u001b[0m\u001b[0;34m,\u001b[0m\u001b[0;34m\u001b[0m\u001b[0;34m\u001b[0m\u001b[0m\n\u001b[1;32m    546\u001b[0m         \u001b[0mworkers\u001b[0m\u001b[0;34m=\u001b[0m\u001b[0mworkers\u001b[0m\u001b[0;34m,\u001b[0m\u001b[0;34m\u001b[0m\u001b[0;34m\u001b[0m\u001b[0m\n\u001b[0;32m--> 547\u001b[0;31m         use_multiprocessing=use_multiprocessing)\n\u001b[0m\u001b[1;32m    548\u001b[0m     \u001b[0mval_adapter\u001b[0m \u001b[0;34m=\u001b[0m \u001b[0;32mNone\u001b[0m\u001b[0;34m\u001b[0m\u001b[0;34m\u001b[0m\u001b[0m\n\u001b[1;32m    549\u001b[0m     \u001b[0;32mif\u001b[0m \u001b[0mvalidation_data\u001b[0m\u001b[0;34m:\u001b[0m\u001b[0;34m\u001b[0m\u001b[0;34m\u001b[0m\u001b[0m\n",
      "\u001b[0;32m/usr/local/lib/python3.6/dist-packages/tensorflow_core/python/keras/engine/training_v2.py\u001b[0m in \u001b[0;36m_process_inputs\u001b[0;34m(model, x, y, batch_size, epochs, sample_weights, class_weights, shuffle, steps, distribution_strategy, max_queue_size, workers, use_multiprocessing)\u001b[0m\n\u001b[1;32m    592\u001b[0m         \u001b[0mbatch_size\u001b[0m\u001b[0;34m=\u001b[0m\u001b[0mbatch_size\u001b[0m\u001b[0;34m,\u001b[0m\u001b[0;34m\u001b[0m\u001b[0;34m\u001b[0m\u001b[0m\n\u001b[1;32m    593\u001b[0m         \u001b[0mcheck_steps\u001b[0m\u001b[0;34m=\u001b[0m\u001b[0;32mFalse\u001b[0m\u001b[0;34m,\u001b[0m\u001b[0;34m\u001b[0m\u001b[0;34m\u001b[0m\u001b[0m\n\u001b[0;32m--> 594\u001b[0;31m         steps=steps)\n\u001b[0m\u001b[1;32m    595\u001b[0m   adapter = adapter_cls(\n\u001b[1;32m    596\u001b[0m       \u001b[0mx\u001b[0m\u001b[0;34m,\u001b[0m\u001b[0;34m\u001b[0m\u001b[0;34m\u001b[0m\u001b[0m\n",
      "\u001b[0;32m/usr/local/lib/python3.6/dist-packages/tensorflow_core/python/keras/engine/training.py\u001b[0m in \u001b[0;36m_standardize_user_data\u001b[0;34m(self, x, y, sample_weight, class_weight, batch_size, check_steps, steps_name, steps, validation_split, shuffle, extract_tensors_from_dataset)\u001b[0m\n\u001b[1;32m   2470\u001b[0m           \u001b[0mfeed_input_shapes\u001b[0m\u001b[0;34m,\u001b[0m\u001b[0;34m\u001b[0m\u001b[0;34m\u001b[0m\u001b[0m\n\u001b[1;32m   2471\u001b[0m           \u001b[0mcheck_batch_axis\u001b[0m\u001b[0;34m=\u001b[0m\u001b[0;32mFalse\u001b[0m\u001b[0;34m,\u001b[0m  \u001b[0;31m# Don't enforce the batch size.\u001b[0m\u001b[0;34m\u001b[0m\u001b[0;34m\u001b[0m\u001b[0m\n\u001b[0;32m-> 2472\u001b[0;31m           exception_prefix='input')\n\u001b[0m\u001b[1;32m   2473\u001b[0m \u001b[0;34m\u001b[0m\u001b[0m\n\u001b[1;32m   2474\u001b[0m     \u001b[0;31m# Get typespecs for the input data and sanitize it if necessary.\u001b[0m\u001b[0;34m\u001b[0m\u001b[0;34m\u001b[0m\u001b[0;34m\u001b[0m\u001b[0m\n",
      "\u001b[0;32m/usr/local/lib/python3.6/dist-packages/tensorflow_core/python/keras/engine/training_utils.py\u001b[0m in \u001b[0;36mstandardize_input_data\u001b[0;34m(data, names, shapes, check_batch_axis, exception_prefix)\u001b[0m\n\u001b[1;32m    563\u001b[0m                            \u001b[0;34m': expected '\u001b[0m \u001b[0;34m+\u001b[0m \u001b[0mnames\u001b[0m\u001b[0;34m[\u001b[0m\u001b[0mi\u001b[0m\u001b[0;34m]\u001b[0m \u001b[0;34m+\u001b[0m \u001b[0;34m' to have '\u001b[0m \u001b[0;34m+\u001b[0m\u001b[0;34m\u001b[0m\u001b[0;34m\u001b[0m\u001b[0m\n\u001b[1;32m    564\u001b[0m                            \u001b[0mstr\u001b[0m\u001b[0;34m(\u001b[0m\u001b[0mlen\u001b[0m\u001b[0;34m(\u001b[0m\u001b[0mshape\u001b[0m\u001b[0;34m)\u001b[0m\u001b[0;34m)\u001b[0m \u001b[0;34m+\u001b[0m \u001b[0;34m' dimensions, but got array '\u001b[0m\u001b[0;34m\u001b[0m\u001b[0;34m\u001b[0m\u001b[0m\n\u001b[0;32m--> 565\u001b[0;31m                            'with shape ' + str(data_shape))\n\u001b[0m\u001b[1;32m    566\u001b[0m         \u001b[0;32mif\u001b[0m \u001b[0;32mnot\u001b[0m \u001b[0mcheck_batch_axis\u001b[0m\u001b[0;34m:\u001b[0m\u001b[0;34m\u001b[0m\u001b[0;34m\u001b[0m\u001b[0m\n\u001b[1;32m    567\u001b[0m           \u001b[0mdata_shape\u001b[0m \u001b[0;34m=\u001b[0m \u001b[0mdata_shape\u001b[0m\u001b[0;34m[\u001b[0m\u001b[0;36m1\u001b[0m\u001b[0;34m:\u001b[0m\u001b[0;34m]\u001b[0m\u001b[0;34m\u001b[0m\u001b[0;34m\u001b[0m\u001b[0m\n",
      "\u001b[0;31mValueError\u001b[0m: Error when checking input: expected flatten_6_input to have 3 dimensions, but got array with shape (60000, 784)"
     ]
    }
   ],
   "source": [
    "model.fit(x_train, y_train, epochs=5)\n",
    "\n",
    "model.evaluate(x_test,  y_test, verbose=2)"
   ]
  },
  {
   "cell_type": "code",
   "execution_count": null,
   "metadata": {},
   "outputs": [],
   "source": []
  }
 ],
 "metadata": {
  "kernelspec": {
   "display_name": "Python 3",
   "language": "python",
   "name": "python3"
  },
  "language_info": {
   "codemirror_mode": {
    "name": "ipython",
    "version": 3
   },
   "file_extension": ".py",
   "mimetype": "text/x-python",
   "name": "python",
   "nbconvert_exporter": "python",
   "pygments_lexer": "ipython3",
   "version": "3.6.8"
  }
 },
 "nbformat": 4,
 "nbformat_minor": 2
}
